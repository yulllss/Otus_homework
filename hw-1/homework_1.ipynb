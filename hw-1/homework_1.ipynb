{
  "cells": [
    {
      "cell_type": "markdown",
      "metadata": {
        "id": "rL70m2sic0jV"
      },
      "source": [
        "# <center> Homework 1 </center>"
      ]
    },
    {
      "cell_type": "markdown",
      "metadata": {
        "id": "JVd5jRlPc0jY"
      },
      "source": [
        "# 0. Где мы сейчас?\n",
        "<img src=\"https://upload.wikimedia.org/wikipedia/commons/thumb/3/38/Jupyter_logo.svg/1200px-Jupyter_logo.svg.png\" width=\"150\">\n",
        "\n",
        "[Jupyter Notebook](https://jupyter.org/) - интерактивная среда для запуска программного кода в браузере. Удобный инструмент для анализа данных, который используется многими специалистами по data science. Позволяет выполнять отдельные ячейки с кодом, а не всю программу сразу, что очень удобно при знакомстве с данными."
      ]
    },
    {
      "cell_type": "markdown",
      "metadata": {
        "id": "k8hj3Kdvc0jZ"
      },
      "source": [
        "# 1. Python\n",
        "> Python - это свободный интерпретируемый объектно-ориентированный расширяемый встраиваемый язык программирования очень высокого уровня\n",
        "\n",
        ">*(Г.Россум, Ф.Л.Дж.Дрейк, Д.С.Откидач \"Язык программирования Python\").*\n",
        "\n",
        "А если без цитат, то питон - это просто очень крутой язык, созданный в 1991 году [Великодушным пожизненным диктатором](https://ru.wikipedia.org/wiki/%D0%92%D0%B5%D0%BB%D0%B8%D0%BA%D0%BE%D0%B4%D1%83%D1%88%D0%BD%D1%8B%D0%B9_%D0%BF%D0%BE%D0%B6%D0%B8%D0%B7%D0%BD%D0%B5%D0%BD%D0%BD%D1%8B%D0%B9_%D0%B4%D0%B8%D0%BA%D1%82%D0%B0%D1%82%D0%BE%D1%80) Гвидо ван Россумом и названный в честь любимого им шоу [Monty Python's Flying Circus](https://en.wikipedia.org/wiki/Monty_Python%27s_Flying_Circus)\n",
        "\n",
        "<img src=\"https://advancelocal-adapter-image-uploads.s3.amazonaws.com/image.oregonlive.com/home/olive-media/width2048/img/tv/photo/2018/10/10/montycastjpg-7ef393e2355a42aa.jpg\" width=\"300\">"
      ]
    },
    {
      "cell_type": "markdown",
      "metadata": {
        "id": "llQ9RXHfc0ja"
      },
      "source": [
        "# 2. Anaconda\n",
        "\n",
        "[Сборка Anaconda](https://www.anaconda.com/products/individual) включает очень много полезных библиотек для анализа данных.\n",
        "\n",
        "Среди наиболее популярных библиотек:\n",
        " - <a href=\"http://numpy.org\">Numpy</a> - это один из основных пакетов для математических вычислений. Он содержит средства для работы с многомерными массивами и высокоуровневыми математическими функциями\n",
        " - <a href=\"https://www.scipy.org/\">SciPy</a> - научные вычисления. Методы оптимизации, интегрирования, модули обработки сигналов и изображений, статистика, линейная алгебра, сплайны, кластеризация и многое другое\n",
        " -  <a href=\"http://pandas.pydata.org/\">Pandas</a> - основная библиотека для обработки и анализа данных. Предназначена для данных разной природы - матричных, панельных данных, временных рядов. Претендует на звание самого мощного и гибкого средства для анализа данных с открытым исходным кодом\n",
        " - <a href=\"http://scikit-learn.org/stable/\">Scikit-learn</a> - реализация очень многих методов машинного обучения с отличной документацией.\n",
        " - <a href=\"http://http://matplotlib.org/\">matplotlib</a> - хорошая библиотека для визуализации данных\n",
        "\n",
        " С этими библиотеками вы будете знакомится дальше на курсе, а пока давайте попрактикуемся в решении базовых задач на  чистом Python."
      ]
    },
    {
      "cell_type": "markdown",
      "metadata": {
        "id": "rfAcLe-Tc0ja"
      },
      "source": [
        "# 3. Задачки"
      ]
    },
    {
      "cell_type": "markdown",
      "metadata": {
        "id": "y7gWqyZpc0jb"
      },
      "source": [
        "## Задача 1\n",
        "$N$ хоббитов делят $K$ кусков эльфийского хлеба поровну, не делящийся нацело остаток остается в корзинке у Сэма. Напишите функцию, которая принимает на вход параметры $N$ и $K$ и возвращает два числа: $x$ - cколько кусков эльфиского хлеба достанется каждому хоббиту, и $y$ - сколько кусков остаётся в корзинке."
      ]
    },
    {
      "cell_type": "code",
      "execution_count": 1,
      "metadata": {
        "id": "m9mteFtwc0jb"
      },
      "outputs": [],
      "source": [
        "def share_bread(N, K):\n",
        "    x = K // N\n",
        "    y = K % N\n",
        "    return x, y\n",
        "\n",
        "# если в функции всё верно, то после выполнения этой строчки, не должно выскакивать ошибок\n",
        "assert share_bread(N=3, K=14) == (4, 2)"
      ]
    },
    {
      "cell_type": "markdown",
      "metadata": {
        "id": "i24Th8I7c0jc"
      },
      "source": [
        "## Задача 2\n",
        "\n",
        "В копях Мории хоббиты нашли стену, на которой высечены разные натуральные числа. Согласно древним сказаниям, это даты сражений. Хоббиты знают, что сражения происходили только по високосным годам. Помогите хоббитам определить, является ли год с данным числом датой великого сражения. Если это так, то верните строку \"YOU SHALL PASS\", иначе верните \"YOU SHALL NOT PASS\". Напомним, что в соответствии с хоббитским календарем, год является високосным, если его номер кратен 4, но не кратен 100, а также если он кратен 400."
      ]
    },
    {
      "cell_type": "code",
      "execution_count": 2,
      "metadata": {
        "id": "3SnU33pPc0jc"
      },
      "outputs": [],
      "source": [
        "def leap_year(year):\n",
        "    if (year % 4 == 0 and year % 100 != 0) or (year % 400 == 0):\n",
        "        return 'YOU SHALL PASS'\n",
        "    else:\n",
        "        return 'YOU SHALL NOT PASS'\n",
        "\n",
        "assert leap_year(5) == 'YOU SHALL NOT PASS'"
      ]
    },
    {
      "cell_type": "markdown",
      "metadata": {
        "id": "-oibBIG4c0jd"
      },
      "source": [
        "## Задача 3\n",
        "<img src=\"http://i0.kym-cdn.com/photos/images/original/001/187/255/5e9.gif\" width=300>\n",
        "\n",
        "\n",
        "Для могущественного магического ритуала Гендальфу необходимо быстро подсчитывать площадь своего амулета, который умеет менять размеры. Известно, что амулет имеет форму треугольника и Гендальф знает длину каждой из сторон. Напишите функцию, которая считает площадь амулета по трем сторонам.  \n",
        "\n",
        "**Подсказка:** используйте формулу Герона\n",
        "$$ S = \\sqrt{p(p-a)(p-b)(p-c)} $$\n",
        "$$ p = \\frac{a + b + c}{2}$$\n"
      ]
    },
    {
      "cell_type": "code",
      "execution_count": 3,
      "metadata": {
        "id": "Uln7wcTVc0jd"
      },
      "outputs": [],
      "source": [
        "import math\n",
        "\n",
        "def amulet_area(a, b, c):\n",
        "    p = (a + b + c) / 2\n",
        "    S = math.sqrt(p * (p - a) * (p - b) * (p - c))\n",
        "    return S\n",
        "\n",
        "assert amulet_area(3, 4, 5) == 6"
      ]
    },
    {
      "cell_type": "markdown",
      "metadata": {
        "id": "Os5KM6bQc0jd"
      },
      "source": [
        "## Задача 4\n",
        "\n",
        "Хоббиты собираются пешком идти до Мордора и им нужно подсчитать расстояние, которое им предстоит пройти. Хоббиты смогли вспомнить сразу несколько метрик расстояния: евклидово, манхэттена и косинусное, так что ваша задача - написать функцию под каждую из них. Важное условие - используйте только базовые функции для решения.\n",
        "\n",
        "\n",
        "* Евклидово расстояние\n",
        "$$ d(a, b) = \\sqrt{\\sum_i (a_i - b_i)^2} $$\n",
        "* Расстояние Манхэттена\n",
        "$$ d(a, b) = \\sum_i |a_i - b_i| $$\n",
        "* Косинусное расстояние\n",
        "$$ d(a, b) = 1 - \\frac{a^\\top b}{||a||_2\\cdot||b||_2}$$"
      ]
    },
    {
      "cell_type": "code",
      "execution_count": 4,
      "metadata": {
        "id": "_21LOuZRc0jd"
      },
      "outputs": [],
      "source": [
        "import numpy as np\n",
        "\n",
        "def cal_euclidean(a, b):\n",
        "    distance_0 = 0.0\n",
        "    for a, b in zip(a,b):\n",
        "        distance_0 += (a - b) ** 2\n",
        "    distance = math.sqrt(distance_0)\n",
        "    return distance\n",
        "\n",
        "def cal_manhattan(a, b):\n",
        "    distance = 0.0\n",
        "    for a, b in zip(a, b):\n",
        "        distance += abs(a - b)\n",
        "    return distance\n",
        "\n",
        "def cal_cosine(a, b):\n",
        "    if len(a) != len(b):\n",
        "        raise ValueError(\"Векторы должны быть одинаковой длины\")\n",
        "    dot_product = sum(a * b for a, b in zip(a, b))\n",
        "    norm1 = math.sqrt(sum(v ** 2 for v in a))\n",
        "    norm2 = math.sqrt(sum(v ** 2 for v in b))\n",
        "    cosine_similarity = dot_product / (norm1 * norm2)\n",
        "    distance = 1 - cosine_similarity\n",
        "    return distance\n"
      ]
    },
    {
      "cell_type": "code",
      "execution_count": 10,
      "metadata": {
        "id": "fvyqAKchc0je"
      },
      "outputs": [
        {
          "name": "stdout",
          "output_type": "stream",
          "text": [
            "27.54995462791182\n",
            "81.0\n",
            "1.3932945673920352\n"
          ]
        }
      ],
      "source": [
        "a = np.random.randint(-10, 10, size=10)\n",
        "b = np.random.randint(-10, 10, size=10)\n",
        "print(cal_euclidean(a, b))\n",
        "print(cal_manhattan(a, b))\n",
        "print(cal_cosine(a, b))"
      ]
    },
    {
      "cell_type": "markdown",
      "metadata": {
        "id": "w1L3GDw3c0je"
      },
      "source": [
        "## Задача 5* (бонусное неоцениваемое задание)\n",
        "\n",
        "**Замечание:** Поскольку библиотеку numpy мы будем подробно разбирать дальше, то это задание является бонусным, его выполнение необязательно для сдачи ДЗ и не влияет на итоговый балл. Как вариант, можете вернуться к нему после прохождения numpy ;)\n",
        "\n"
      ]
    },
    {
      "cell_type": "markdown",
      "metadata": {
        "id": "aEDIBiRpc0je"
      },
      "source": [
        "Создайте случайный array (`np.random.rand()`) длинной 100. Преобразуйте его так, чтобы\n",
        "* Максимальный элемент(ы) был равен 1\n",
        "* Минимальный элемент(ы) был равен 0\n",
        "* Остальные элементы в интервале от 0 до 1 остаются прежними"
      ]
    },
    {
      "cell_type": "code",
      "execution_count": 26,
      "metadata": {
        "id": "AFye6XzXc0je"
      },
      "outputs": [
        {
          "name": "stdout",
          "output_type": "stream",
          "text": [
            "1.0 0.0\n",
            "[0.         0.07253585 0.57625183 0.97500571 0.22322455 0.70471414\n",
            " 0.06588628 0.4186819  0.00428678 0.85449572 0.35141018 0.63536312\n",
            " 0.85889858 0.18073856 0.93205938 0.32222033 0.47973975 0.31890542\n",
            " 0.09248704 0.6371392  0.17630878 0.59686324 0.29885428 0.74098269\n",
            " 0.4553003  0.4733689  0.40391309 0.20318002 0.97960047 0.14771841\n",
            " 0.55328877 0.99833528 0.16257856 0.83864964 0.93375849 0.76093536\n",
            " 0.50135129 0.79313341 0.98908368 0.99789165 0.1650917  0.42259375\n",
            " 0.91750922 0.48686181 0.12589743 0.6495448  0.63205323 0.96281912\n",
            " 0.84022423 0.45318815 0.50909928 0.49030585 0.29408507 0.80093105\n",
            " 0.07573729 0.9841662  0.02955717 0.52786791 0.07859835 0.18222362\n",
            " 0.33022294 0.5858577  0.00100079 0.2489576  0.47767053 0.71067563\n",
            " 0.1115578  0.36378142 0.76442788 0.90627193 0.9463616  0.70656401\n",
            " 0.25172134 0.74167158 0.69894798 0.44245338 0.87931581 0.44739191\n",
            " 0.68957177 0.20600395 0.39781746 0.40294446 0.09753644 0.34308512\n",
            " 0.94039022 0.42836327 0.72074936 0.38792692 0.81687906 0.1351466\n",
            " 0.54450866 0.7537553  0.76992205 0.99404159 0.54360661 0.88556167\n",
            " 0.29506586 0.95352867 0.38948959 1.        ]\n"
          ]
        }
      ],
      "source": [
        "my_array = np.random.rand(100)\n",
        "my_array[0] = 0.0 \n",
        "my_array[99] = 1.0\n",
        "print(np.max(my_array), np.min(my_array))\n",
        "print(my_array)"
      ]
    },
    {
      "cell_type": "markdown",
      "metadata": {
        "id": "D84Jpwmmc0je"
      },
      "source": [
        "Создайте array размером $5 \\times 6$ с целыми числами в интервале [0,50]. Напечатайте колонку, которая содержит максимальный элемент полученной матрицы"
      ]
    },
    {
      "cell_type": "code",
      "execution_count": 33,
      "metadata": {
        "id": "SXaKW9bec0je"
      },
      "outputs": [
        {
          "name": "stdout",
          "output_type": "stream",
          "text": [
            "Shape:  (5, 6)\n",
            "Array\n",
            "[[ 6 15 18 25 43 36]\n",
            " [26 24 18 49 37 21]\n",
            " [39  5 30 19 38 50]\n",
            " [31 47 36  7 16 46]\n",
            " [18 32 41 20  1 17]]\n",
            "[36 21 50 46 17]\n"
          ]
        }
      ],
      "source": [
        "my_array = np.random.randint(0, 51, size=(5, 6))\n",
        "max_pos = np.unravel_index(np.argmax(my_array), my_array.shape)\n",
        "selected_column = my_array[:, max_pos[1]]\n",
        "print('Shape: ',my_array.shape)\n",
        "print('Array')\n",
        "print(my_array)\n",
        "print(selected_column)"
      ]
    },
    {
      "cell_type": "markdown",
      "metadata": {
        "id": "g3scUf0_c0je"
      },
      "source": [
        "Напишите функцию, которая принимает на вход матрицу (array) X и возвращает все её уникальные строки в виде новой матрицы."
      ]
    },
    {
      "cell_type": "code",
      "execution_count": 34,
      "metadata": {
        "id": "75j1Kyzvc0je"
      },
      "outputs": [],
      "source": [
        "def get_unique_rows(X):\n",
        "    X_unique = np.unique(X, axis=0)\n",
        "    return X_unique"
      ]
    },
    {
      "cell_type": "code",
      "execution_count": 35,
      "metadata": {
        "id": "HzY-9KwGc0je"
      },
      "outputs": [
        {
          "name": "stdout",
          "output_type": "stream",
          "text": [
            "[[4 4 4]\n",
            " [4 5 5]\n",
            " [4 4 5]\n",
            " [5 4 5]\n",
            " [5 5 4]\n",
            " [5 4 4]\n",
            " [4 5 4]\n",
            " [4 4 5]\n",
            " [5 5 4]\n",
            " [5 4 5]]\n"
          ]
        }
      ],
      "source": [
        "X = np.random.randint(4, 6, size=(10,3))\n",
        "print(X)"
      ]
    },
    {
      "cell_type": "code",
      "execution_count": 36,
      "metadata": {
        "id": "UiAM62AGc0jf"
      },
      "outputs": [
        {
          "data": {
            "text/plain": [
              "array([[4, 4, 4],\n",
              "       [4, 4, 5],\n",
              "       [4, 5, 4],\n",
              "       [4, 5, 5],\n",
              "       [5, 4, 4],\n",
              "       [5, 4, 5],\n",
              "       [5, 5, 4]])"
            ]
          },
          "execution_count": 36,
          "metadata": {},
          "output_type": "execute_result"
        }
      ],
      "source": [
        "get_unique_rows(X)"
      ]
    }
  ],
  "metadata": {
    "colab": {
      "provenance": []
    },
    "kernelspec": {
      "display_name": ".venv",
      "language": "python",
      "name": "python3"
    },
    "language_info": {
      "codemirror_mode": {
        "name": "ipython",
        "version": 3
      },
      "file_extension": ".py",
      "mimetype": "text/x-python",
      "name": "python",
      "nbconvert_exporter": "python",
      "pygments_lexer": "ipython3",
      "version": "3.13.3"
    },
    "varInspector": {
      "cols": {
        "lenName": 16,
        "lenType": 16,
        "lenVar": 40
      },
      "kernels_config": {
        "python": {
          "delete_cmd_postfix": "",
          "delete_cmd_prefix": "del ",
          "library": "var_list.py",
          "varRefreshCmd": "print(var_dic_list())"
        },
        "r": {
          "delete_cmd_postfix": ") ",
          "delete_cmd_prefix": "rm(",
          "library": "var_list.r",
          "varRefreshCmd": "cat(var_dic_list()) "
        }
      },
      "types_to_exclude": [
        "module",
        "function",
        "builtin_function_or_method",
        "instance",
        "_Feature"
      ],
      "window_display": false
    }
  },
  "nbformat": 4,
  "nbformat_minor": 0
}
